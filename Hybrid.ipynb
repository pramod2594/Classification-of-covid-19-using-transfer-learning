{
  "nbformat": 4,
  "nbformat_minor": 0,
  "metadata": {
    "accelerator": "GPU",
    "colab": {
      "name": "Hybrid.ipynb",
      "provenance": [],
      "include_colab_link": true
    },
    "interpreter": {
      "hash": "41b2d8f172f7b286fef524e82d995469337168c970c574aba22aee4fd43d553b"
    },
    "kernelspec": {
      "display_name": "Python 3 (ipykernel)",
      "language": "python",
      "name": "python3"
    },
    "language_info": {
      "codemirror_mode": {
        "name": "ipython",
        "version": 3
      },
      "file_extension": ".py",
      "mimetype": "text/x-python",
      "name": "python",
      "nbconvert_exporter": "python",
      "pygments_lexer": "ipython3",
      "version": "3.8.5"
    }
  },
  "cells": [
    {
      "cell_type": "markdown",
      "metadata": {
        "id": "view-in-github",
        "colab_type": "text"
      },
      "source": [
        "<a href=\"https://colab.research.google.com/github/pramod2594/Classification-of-covid-19-using-transfer-learning/blob/main/Hybrid.ipynb\" target=\"_parent\"><img src=\"https://colab.research.google.com/assets/colab-badge.svg\" alt=\"Open In Colab\"/></a>"
      ]
    },
    {
      "cell_type": "code",
      "metadata": {
        "colab": {
          "base_uri": "https://localhost:8080/"
        },
        "id": "OyZl8QPeSfyu",
        "outputId": "63ea73aa-964d-4990-bf45-655b2d28eca9"
      },
      "source": [
        "from google.colab import drive\n",
        "drive.mount(\"/content/drive\")"
      ],
      "execution_count": null,
      "outputs": [
        {
          "output_type": "stream",
          "name": "stdout",
          "text": [
            "Mounted at /content/drive\n"
          ]
        }
      ]
    },
    {
      "cell_type": "code",
      "metadata": {
        "id": "bEisFVhWSNbr"
      },
      "source": [
        "import numpy as np # l|inear algebra\n",
        "import pandas as pd # data processing, CSV file I/O (e.g. pd.read_csv)"
      ],
      "execution_count": null,
      "outputs": []
    },
    {
      "cell_type": "code",
      "metadata": {
        "id": "88UdiqUUSNbx"
      },
      "source": [
        "# Imports \n",
        "import matplotlib.pyplot as plt\n",
        "import seaborn as sns\n",
        "import cv2\n",
        "import sklearn\n",
        "import random\n",
        "import tensorflow as tf\n",
        "import os\n",
        "from tqdm import tqdm\n",
        "from tensorflow.keras.preprocessing.image import ImageDataGenerator"
      ],
      "execution_count": null,
      "outputs": []
    },
    {
      "cell_type": "code",
      "metadata": {
        "id": "StbZC0gjSNb6"
      },
      "source": [
        "# base_path and labels.\n",
        "base_path = '/content/drive/MyDrive/newhybrid'\n",
        "labels = ['COVID', 'NORMAL']"
      ],
      "execution_count": null,
      "outputs": []
    },
    {
      "cell_type": "code",
      "metadata": {
        "id": "WMGciPYkSNb7"
      },
      "source": [
        "# Constants\n",
        "IMAGE_SIZE = 224\n",
        "BATCH_SIZE = 32\n",
        "VERBOSE = 1"
      ],
      "execution_count": null,
      "outputs": []
    },
    {
      "cell_type": "code",
      "metadata": {
        "id": "Km_DeOcESNb7"
      },
      "source": [
        "# Dataset from the training folder.\n",
        "x_train=[]\n",
        "y_train=[]\n",
        "for i in labels:\n",
        "    folderPath = os.path.join(os.path.join(base_path,'train'),i)\n",
        "    for j in tqdm(os.listdir(folderPath)):\n",
        "        img = cv2.imread(os.path.join(folderPath,j))\n",
        "        img = cv2.resize(img, (IMAGE_SIZE,IMAGE_SIZE))\n",
        "        x_train.append(img)\n",
        "        y_train.append(i)\n",
        "print('Training dataset Loading complete.')\n",
        "\n",
        "# Dataset from the testing folder..\n",
        "\n",
        "for i in labels:\n",
        "    folderPath = os.path.join(os.path.join(base_path,'test'),i)\n",
        "    for j in tqdm(os.listdir(folderPath)):\n",
        "        img = cv2.imread(os.path.join(folderPath,j))\n",
        "        img = cv2.resize(img, (IMAGE_SIZE,IMAGE_SIZE))\n",
        "        x_train.append(img)\n",
        "        y_train.append(i)\n",
        "x_train = np.array(x_train)\n",
        "y_train = np.array(y_train)\n",
        "x_train, y_train = sklearn.utils.shuffle(x_train, y_train, random_state=0)\n",
        "\n",
        "print('Testing dataset Loading complete.')"
      ],
      "execution_count": null,
      "outputs": []
    },
    {
      "cell_type": "code",
      "metadata": {
        "id": "ULYv0edSSNb8"
      },
      "source": [
        "sns.countplot(y_train)\n",
        "plt.show()"
      ],
      "execution_count": null,
      "outputs": []
    },
    {
      "cell_type": "code",
      "metadata": {
        "id": "JVOOPduPSNcK"
      },
      "source": [
        "j=0\n",
        "for i in labels:\n",
        "    j=0\n",
        "    while True :\n",
        "        if y_train[j]==i:\n",
        "            plt.figure(figsize = (5,5))\n",
        "            plt.imshow(x_train[j])\n",
        "            plt.title(y_train[j])\n",
        "            break\n",
        "        j+=1"
      ],
      "execution_count": null,
      "outputs": []
    },
    {
      "cell_type": "code",
      "metadata": {
        "id": "b50ZXx_dSNcL"
      },
      "source": [
        "datagen = ImageDataGenerator(\n",
        "    featurewise_center=False,\n",
        "    samplewise_center=False,\n",
        "    featurewise_std_normalization=False,\n",
        "    samplewise_std_normalization=False,\n",
        "    zca_whitening=False,\n",
        "    rotation_range=30,\n",
        "    width_shift_range=0.1,\n",
        "    height_shift_range=0.1,\n",
        "    zoom_range=0.2,\n",
        "    horizontal_flip=True, vertical_flip=False\n",
        ")\n",
        "\n",
        "datagen.fit(x_train)\n",
        "x_train.shape"
      ],
      "execution_count": null,
      "outputs": []
    },
    {
      "cell_type": "code",
      "metadata": {
        "id": "PgBOtkUCSNcM"
      },
      "source": [
        "# Splitting of dataset for Testing.\n",
        "from sklearn.model_selection import train_test_split\n",
        "x_train, x_test, y_train, y_test = train_test_split(x_train, y_train, test_size = 0.10, random_state=0)\n",
        "\n",
        "print(\"Shapes X : Train :\",x_train.shape,  \" Test :\",x_test.shape)\n",
        "print(\"Shapes Y : Train :\",y_train.shape,  \" Test :\",y_test.shape)"
      ],
      "execution_count": null,
      "outputs": []
    },
    {
      "cell_type": "code",
      "metadata": {
        "id": "N-eR6jTDSNcN"
      },
      "source": [
        "y_train_new = []\n",
        "for i in y_train:\n",
        "    y_train_new.append(labels.index(i))\n",
        "y_train = y_train_new\n",
        "y_train = tf.keras.utils.to_categorical(y_train)\n",
        "\n",
        "\n",
        "y_test_new = []\n",
        "for i in y_test:\n",
        "    y_test_new.append(labels.index(i))\n",
        "y_test = y_test_new\n",
        "y_test = tf.keras.utils.to_categorical(y_test)"
      ],
      "execution_count": null,
      "outputs": []
    },
    {
      "cell_type": "code",
      "metadata": {
        "id": "GGH5sx3Onmai"
      },
      "source": [
        "import tensorflow as tf\n",
        "tf.keras.applications.resnet.preprocess_input"
      ],
      "execution_count": null,
      "outputs": []
    },
    {
      "cell_type": "code",
      "metadata": {
        "id": "3PjPqMF1SNcP"
      },
      "source": [
        "# Importing the model and initializing.\n",
        "from tensorflow.keras.applications import ResNet50\n",
        "resnet = ResNet50(weights = 'imagenet',include_top=False,input_shape=(IMAGE_SIZE,IMAGE_SIZE, 3))"
      ],
      "execution_count": null,
      "outputs": []
    },
    {
      "cell_type": "code",
      "metadata": {
        "id": "kZcidnyhSNcP"
      },
      "source": [
        "# Adding Top Layers.\n",
        "model1 = resnet.output\n",
        "model1 = tf.keras.layers.GlobalAveragePooling2D()(model1)\n",
        "model1 = tf.keras.layers.Dropout(0.5)(model1)\n",
        "model1 = tf.keras.layers.Dense(2, activation = 'softmax')(model1)\n",
        "model1 = tf.keras.models.Model(inputs = resnet.input, outputs = model1)\n",
        "\n",
        "# Model summary.\n",
        "model1.summary()"
      ],
      "execution_count": null,
      "outputs": []
    },
    {
      "cell_type": "code",
      "metadata": {
        "id": "9yf66GhjSNcQ"
      },
      "source": [
        "# Compiling Model\n",
        "model1.compile(loss = 'categorical_crossentropy', optimizer ='Adam', metrics=['accuracy'])\n",
        "# Callbacks.\n",
        "from tensorflow.keras.callbacks import EarlyStopping, ReduceLROnPlateau, TensorBoard, ModelCheckpoint\n",
        "tensorboard = TensorBoard(log_dir = 'logs')\n",
        "checkpoint = ModelCheckpoint(\"resnet.h5\",monitor=\"val_accuracy\",save_best_only=True,mode=\"auto\",verbose=1)\n",
        "reduce_lr = ReduceLROnPlateau(monitor = 'val_accuracy', factor = 0.3, patience = 2, min_delta = 0.001,mode='auto',verbose=VERBOSE)"
      ],
      "execution_count": null,
      "outputs": []
    },
    {
      "cell_type": "code",
      "metadata": {
        "id": "iL8Vldw1SNcR"
      },
      "source": [
        "# Fitting the model\n",
        "history1 = model1.fit(x_train, y_train, validation_split=0.1, epochs = 25, verbose =VERBOSE, batch_size=BATCH_SIZE, callbacks=[tensorboard,checkpoint,reduce_lr])"
      ],
      "execution_count": null,
      "outputs": []
    },
    {
      "cell_type": "code",
      "metadata": {
        "id": "G35iev0FSNcS"
      },
      "source": [
        "epochs = [i for i in range(25)]\n",
        "fig, ax = plt.subplots(1,2)\n",
        "train_acc = history1.history['accuracy']\n",
        "train_loss = history1.history['loss']\n",
        "val_acc = history1.history['val_accuracy']\n",
        "val_loss = history1.history['val_loss']\n",
        "fig.set_size_inches(14, 7)\n",
        "\n",
        "ax[0].plot(epochs, train_acc, 'go-', label = 'Training Accuracy')\n",
        "ax[0].plot(epochs, val_acc, 'ro-', label = 'Validation Accuracy')\n",
        "ax[0].set_title('Training & Validation Accuracy')\n",
        "ax[0].legend()\n",
        "ax[0].set_xlabel('Epochs')\n",
        "ax[0].set_ylabel('Accuracy')\n",
        "\n",
        "ax[1].plot(epochs, train_loss, 'g-o', label ='Training Loss')\n",
        "ax[1].plot(epochs, val_loss, 'r-o', label = 'Validation Loss')\n",
        "ax[1].set_title('Testing Accuracy & Loss')\n",
        "ax[1].legend()\n",
        "ax[1].set_xlabel('Epochs')\n",
        "ax[1].set_ylabel('Training & Validation Loss')\n",
        "plt.show()"
      ],
      "execution_count": null,
      "outputs": []
    },
    {
      "cell_type": "code",
      "metadata": {
        "id": "JzPYPJQVSNcg"
      },
      "source": [
        "# Evaluating Model.\n",
        "result1=model1.evaluate(x_test, y_test)\n",
        "print(\"Testing Loss :\", result1[0])\n",
        "print(\"Testing Accuracy :\", result1[1]*100, \"%\")"
      ],
      "execution_count": null,
      "outputs": []
    },
    {
      "cell_type": "code",
      "metadata": {
        "id": "anXz4qPSSNco"
      },
      "source": [
        "predictions1 = model1.predict(x_test)\n",
        "predictions1 = np.argmax(predictions1, axis = 1)\n",
        "y_test_edit = np.argmax(y_test , axis = 1)"
      ],
      "execution_count": null,
      "outputs": []
    },
    {
      "cell_type": "code",
      "metadata": {
        "id": "0cxcGrq-SNcp"
      },
      "source": [
        "# Classification report.\n",
        "cf_report = sklearn.metrics.classification_report(y_test_edit, predictions1 )\n",
        "print(cf_report)"
      ],
      "execution_count": null,
      "outputs": []
    },
    {
      "cell_type": "code",
      "metadata": {
        "id": "lBkOY0uoSNcq"
      },
      "source": [
        "cf_matrix = sklearn.metrics.confusion_matrix(y_test_edit, predictions1)\n",
        "sns.heatmap(cf_matrix, cmap = 'Blues', linewidth = 1, annot = True, xticklabels=labels, yticklabels=labels)"
      ],
      "execution_count": null,
      "outputs": []
    },
    {
      "cell_type": "code",
      "metadata": {
        "id": "IORA06_0RFrb"
      },
      "source": [
        ""
      ],
      "execution_count": null,
      "outputs": []
    }
  ]
}